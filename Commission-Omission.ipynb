{
 "cells": [
  {
   "cell_type": "code",
   "execution_count": 10,
   "id": "cd358ad1",
   "metadata": {},
   "outputs": [],
   "source": [
    "import pandas as pd\n",
    "import numpy as np\n",
    "import nltk.data\n",
    "import itertools\n",
    "import spacy\n",
    "from sentence_transformers import SentenceTransformer, util"
   ]
  },
  {
   "cell_type": "code",
   "execution_count": 11,
   "id": "49e6dea1",
   "metadata": {},
   "outputs": [],
   "source": [
    "df_clusters_raw = pd.read_csv(\"good_clusters_1.csv\")"
   ]
  },
  {
   "cell_type": "code",
   "execution_count": 12,
   "id": "4a0458e7",
   "metadata": {},
   "outputs": [],
   "source": [
    "df_clusters = df_clusters_raw.drop_duplicates(subset=['lead'], keep='last')\n",
    "df_clusters = df_clusters.drop_duplicates(subset=['headline'], keep='last')"
   ]
  },
  {
   "cell_type": "code",
   "execution_count": 13,
   "id": "67d5d30f",
   "metadata": {},
   "outputs": [
    {
     "data": {
      "text/plain": [
       "[53, 56, 57, 59, 61, 66, 68, 69, 70, 75, 77, 78, 84, 86, 90]"
      ]
     },
     "execution_count": 13,
     "metadata": {},
     "output_type": "execute_result"
    }
   ],
   "source": [
    "list(set(df_clusters[\"cluster\"]))[20:35] #[20:35]"
   ]
  },
  {
   "cell_type": "code",
   "execution_count": 14,
   "id": "a68f7c53",
   "metadata": {},
   "outputs": [],
   "source": [
    "cnum = 69\n",
    "df_clust = df_clusters.loc[df_clusters[\"cluster\"]==cnum]"
   ]
  },
  {
   "cell_type": "code",
   "execution_count": 15,
   "id": "6fc1105c",
   "metadata": {},
   "outputs": [
    {
     "data": {
      "text/plain": [
       "array(['Joe Biden Dismisses Report That He Told False War Story',\n",
       "       \"Joe Biden told moving military story at campaign stop - but it 'never happened,' report says\",\n",
       "       \"Joe Biden's War Story -- 2020 Democrat Fabricates Story in New Hampshire\",\n",
       "       'Biden misstated details of war story on the campaign trail: Report',\n",
       "       'As he campaigns for president, Joe Biden tells a moving but false war story',\n",
       "       'CNN pundit defends Biden for war story by comparing him to Reagan',\n",
       "       'Report: Joe Biden Fabricated Emotional Story About Afghanistan War',\n",
       "       \"Mark Steyn: Biden's war story controversy latest in long line of verbal mistakes\",\n",
       "       \"Biden pushes back on report refuting disputed war story: 'I don't see what the problem is'\",\n",
       "       'Biden defends his telling of a harrowing war story after report he got facts wrong',\n",
       "       'Biden denies conflating details of war story',\n",
       "       \"Donna Brazile defends Biden over disputed war story: 'He is heartfelt'\",\n",
       "       'Joe Biden Unapologetic for Fabricating Afghan War Story'],\n",
       "      dtype=object)"
      ]
     },
     "execution_count": 15,
     "metadata": {},
     "output_type": "execute_result"
    }
   ],
   "source": [
    "df_clust[\"headline\"].values"
   ]
  },
  {
   "cell_type": "code",
   "execution_count": 16,
   "id": "5f47078f",
   "metadata": {},
   "outputs": [
    {
     "data": {
      "text/plain": [
       "{'ABC News',\n",
       " 'Breitbart',\n",
       " 'Fox News',\n",
       " 'NBC News',\n",
       " 'National Review',\n",
       " 'The New York Times',\n",
       " 'The Washington Post',\n",
       " 'USA Today'}"
      ]
     },
     "execution_count": 16,
     "metadata": {},
     "output_type": "execute_result"
    }
   ],
   "source": [
    "set(df_clust[\"outlet\"].values)"
   ]
  },
  {
   "cell_type": "markdown",
   "id": "c5a24f34",
   "metadata": {},
   "source": [
    "Some code sourced from: https://huggingface.co/sentence-transformers/multi-qa-MiniLM-L6-cos-v1"
   ]
  },
  {
   "cell_type": "code",
   "execution_count": 17,
   "id": "4226c7c0",
   "metadata": {},
   "outputs": [
    {
     "name": "stdout",
     "output_type": "stream",
     "text": [
      "0.8824230432510376 Report: Joe Biden Fabricated Emotional Story About Afghanistan War #### Joe Biden Unapologetic for Fabricating Afghan War Story\n",
      "0.8600894212722778 Biden defends his telling of a harrowing war story after report he got facts wrong #### Biden denies conflating details of war story\n"
     ]
    }
   ],
   "source": [
    "duplicate_headlines = []\n",
    "model = SentenceTransformer('sentence-transformers/multi-qa-MiniLM-L6-cos-v1')\n",
    "\n",
    "for i in itertools.combinations(df_clust[\"headline\"].to_list(), 2):\n",
    "    sent_one = model.encode(i[0])\n",
    "    sent_two = model.encode(i[1])\n",
    "\n",
    "    # Compute dot score between query and all document embeddings\n",
    "    scores = util.dot_score(sent_one, sent_two)[0].cpu().tolist()\n",
    "\n",
    "    sen_tup1 = (i[0],\"str\")\n",
    "    sen_tup2 = (i[1], \"str\")\n",
    "\n",
    "    # Combine docs & scores\n",
    "    doc_score_pairs = list(zip(sen_tup1, sen_tup2, scores))\n",
    "    \n",
    "    # Sort by decreasing score\n",
    "    doc_score_pairs = sorted(doc_score_pairs, key=lambda x: x[1], reverse=True)\n",
    "\n",
    "    # Output passages & scores\n",
    "    for doc, doc2, score in doc_score_pairs:\n",
    "        if score > .85:\n",
    "            print(score, doc, \"####\", doc2)\n",
    "            duplicate_headlines.append(doc)"
   ]
  },
  {
   "cell_type": "code",
   "execution_count": 18,
   "id": "1d76605d",
   "metadata": {},
   "outputs": [
    {
     "data": {
      "text/plain": [
       "['Report: Joe Biden Fabricated Emotional Story About Afghanistan War',\n",
       " 'Biden defends his telling of a harrowing war story after report he got facts wrong']"
      ]
     },
     "execution_count": 18,
     "metadata": {},
     "output_type": "execute_result"
    }
   ],
   "source": [
    "duplicate_headlines"
   ]
  },
  {
   "cell_type": "code",
   "execution_count": 19,
   "id": "72968445",
   "metadata": {},
   "outputs": [
    {
     "data": {
      "text/plain": [
       "(13, 18)"
      ]
     },
     "execution_count": 19,
     "metadata": {},
     "output_type": "execute_result"
    }
   ],
   "source": [
    "df_clust.shape"
   ]
  },
  {
   "cell_type": "code",
   "execution_count": 20,
   "id": "72117433",
   "metadata": {},
   "outputs": [],
   "source": [
    "df_clust = df_clust.loc[~df_clust[\"headline\"].isin(duplicate_headlines)]"
   ]
  },
  {
   "cell_type": "code",
   "execution_count": 23,
   "id": "13067e10",
   "metadata": {},
   "outputs": [],
   "source": [
    "tokenizer = nltk.data.load('tokenizers/punkt/english.pickle')"
   ]
  },
  {
   "cell_type": "code",
   "execution_count": 24,
   "id": "06594918",
   "metadata": {},
   "outputs": [],
   "source": [
    "sentences_all = []\n",
    "df_sentences = pd.DataFrame(columns=[\"outlet\", \"sentence\"])\n",
    "for index, row in df_clust.iterrows():\n",
    "    sentence_list = tokenizer.tokenize(row['body']) \n",
    "    for sent in sentence_list:\n",
    "        df_sentences = df_sentences.append({\"outlet\": row['outlet'], \"sentence\": sent}, ignore_index=True)"
   ]
  },
  {
   "cell_type": "code",
   "execution_count": 25,
   "id": "47c81738",
   "metadata": {},
   "outputs": [
    {
     "data": {
      "text/plain": [
       "(387, 2)"
      ]
     },
     "execution_count": 25,
     "metadata": {},
     "output_type": "execute_result"
    }
   ],
   "source": [
    "df_sentences.shape"
   ]
  },
  {
   "cell_type": "markdown",
   "id": "473968d8",
   "metadata": {},
   "source": [
    "## Remove duplicate sentences"
   ]
  },
  {
   "cell_type": "markdown",
   "id": "55a50ea3",
   "metadata": {},
   "source": [
    "Some code sourced from: https://huggingface.co/sentence-transformers/multi-qa-MiniLM-L6-cos-v1"
   ]
  },
  {
   "cell_type": "code",
   "execution_count": null,
   "id": "502f7f4a",
   "metadata": {},
   "outputs": [
    {
     "name": "stdout",
     "output_type": "stream",
     "text": [
      "0.9999998807907104 “We can lose a vice president,” he said, recounting his words to a crowd during an event on Friday. #### “We can lose a vice president,” he said, recounting his words to a crowd during an event on Friday.\n",
      "0.9999998807907104 “We can lose a vice president,” he said, recounting his words to a crowd during an event on Friday. #### “We can lose a vice president,” he said, recounting his words to a crowd during an event on Friday.\n",
      "0.9999998807907104 “We can’t lose many more of these kids. #### “We can’t lose many more of these kids.\n",
      "0.9999998807907104 “We can’t lose many more of these kids. #### “We can’t lose many more of these kids.\n",
      "0.9999998807907104 “We can’t lose many more of these kids. #### “We can’t lose many more of these kids.\n",
      "0.9999997019767761 Not a joke.” His story involved the captain dramatically telling Biden he didn't want the medal because his comrade ended up dying. #### Not a joke.” His story involved the captain dramatically telling Biden he didn't want the medal because his comrade ended up dying.\n",
      "0.9999997019767761 Not a joke.” His story involved the captain dramatically telling Biden he didn't want the medal because his comrade ended up dying. #### Not a joke.” His story involved the captain dramatically telling Biden he didn't want the medal because his comrade ended up dying.\n",
      "0.9999998807907104 \"It appears as though the former vice president has jumbled elements of at least three actual events into one story,\" the Post's Matt Viser and Greg Jaffe wrote. #### \"It appears as though the former vice president has jumbled elements of at least three actual events into one story,\" The Post's Matt Viser and Greg Jaffe wrote.\n",
      "0.9999998807907104 \"It appears as though the former vice president has jumbled elements of at least three actual events into one story,\" the Post's Matt Viser and Greg Jaffe wrote. #### \"It appears as though the former vice president has jumbled elements of at least three actual events into one story,\" The Post's Matt Viser and Greg Jaffe wrote.\n",
      "1.0 Workman told the vice president that he didn’t want the medal. #### Workman told the vice president that he didn’t want the medal.\n",
      "0.999999463558197 “’Do not pin it on me, sir! #### “’Do not pin it on me, Sir!\n",
      "1.0000003576278687 Please, sir. #### Please, Sir.\n",
      "0.9999999403953552 Do not do that! #### Do not do that!\n",
      "0.9999995231628418 He died. #### He died.\n",
      "0.9999995231628418 He died. #### He died.\n",
      "0.9999995231628418 He died. #### He died.\n",
      "0.9999995231628418 He died. #### He died.\n",
      "0.9999995231628418 He died. #### He died.\n",
      "0.9999995231628418 He died. #### He died.\n",
      "0.9999995231628418 He died. #### He died.\n",
      "0.9999995231628418 He died. #### He died.\n",
      "0.9999995231628418 He died. #### He died.\n",
      "0.9999995231628418 He died. #### He died.\n",
      "0.9999995231628418 He died. #### He died.\n",
      "0.9999995231628418 He died. #### He died.\n",
      "0.9999995231628418 He died. #### He died.\n",
      "0.9999997615814209 “He died. #### “He died.\n",
      "0.9999997615814209 “He died. #### “He died.\n",
      "1.0000004768371582 He died, Mr. Vice President,” Biden recalled the officer saying. #### He died, Mr. Vice President,” Biden recalled the officer saying.\n",
      "1.0000001192092896 \"And everybody got concerned a vice president going up in the middle of this, but we can lose a vice president, we can't lose many more of these kids, not a joke. #### \"And everybody got concerned a vice president going up in the middle of this, but we can lose a vice president, we can't lose many more of these kids, not a joke.\n",
      "1.0 This guy climbed down a ravine. #### This guy climbed down a ravine.\n",
      "0.9999999403953552 Carried his guy up on his back under fire, and the general wanted me to pin the Silver Star on him.\" #### Carried his guy up on his back under fire, and the general wanted me to pin the Silver Star on him.\"\n",
      "0.9999995231628418 He died. #### He died.\n",
      "0.9999995231628418 He died. #### He died.\n",
      "0.9999995231628418 He died. #### He died.\n",
      "0.9999995231628418 He died. #### He died.\n",
      "0.9999995231628418 He died. #### He died.\n",
      "0.9999995231628418 He died. #### He died.\n",
      "0.9999995231628418 He died. #### He died.\n",
      "0.9999995231628418 He died. #### He died.\n",
      "0.9999995231628418 He died. #### He died.\n",
      "0.9999995231628418 He died. #### He died.\n",
      "0.9999995231628418 He died. #### He died.\n",
      "0.9999995231628418 He died. #### He died.\n",
      "1.0000001192092896 He died.'\" #### He died.'\"\n",
      "1.0000001192092896 He died.'\" #### He died.'\"\n",
      "0.9808753728866577 According to the report, Biden visited Kunar province as a U.S. senator in 2008, not as vice president, and the soldier involved was not an older Navy captain, but a 20-year-old Army specialist named Kyle White. #### According to the Post’s reporting, Biden visited the Kunar province in 2008 as a senator, not as the vice president, and the soldier in the story was the 20-year-old Army specialist named Kyle White, not an older Navy captain.\n",
      "0.9999996423721313 I don’t want it. #### I don’t want it.\n",
      "0.9999996423721313 I don’t want it. #### I don’t want it.\n",
      "0.9999995231628418 He died. #### He died.\n",
      "0.9999995231628418 He died. #### He died.\n",
      "0.9999995231628418 He died. #### He died.\n",
      "0.9999995231628418 He died. #### He died.\n",
      "0.9999995231628418 He died. #### He died.\n",
      "0.9999995231628418 He died. #### He died.\n",
      "0.9999995231628418 He died. #### He died.\n",
      "0.9999995231628418 He died. #### He died.\n",
      "0.9999995231628418 He died. #### He died.\n",
      "0.9999995231628418 He died. #### He died.\n",
      "0.9999995231628418 He died. #### He died.\n",
      "0.9999995231628418 He died. #### He died.\n",
      "0.9999995231628418 He died. #### He died.\n",
      "0.9999995231628418 He died. #### He died.\n",
      "0.9999995231628418 He died. #### He died.\n",
      "0.9999995231628418 He died. #### He died.\n",
      "0.9999995231628418 He died. #### He died.\n",
      "0.9999995231628418 He died. #### He died.\n",
      "0.9999995231628418 He died. #### He died.\n",
      "0.9999995231628418 He died. #### He died.\n",
      "0.9999995231628418 He died. #### He died.\n",
      "0.9999998807907104 I didn’t do my job, sir. #### I didn’t do my job, sir.\n",
      "1.0000001192092896 He died.'\" #### He died.'\"\n",
      "1.0 “In Afghanistan, he was moved by Staff Sgt. #### “In Afghanistan, he was moved by Staff Sgt.\n",
      "0.9884476065635681 Workman’s valor and selflessness, which is emblematic of the duty and sacrifice of the 9/11 generation of veterans who have given so much across countless deployments,” Andrew Bates, a spokesman for the Biden campaign, said in a statement given to the Post. #### Workman’s valor and selflessness, which is emblematic of the duty and sacrifice of the 9/11 generation of veterans who have given so much across countless deployments,” Andrew Bates, a Biden campaign spokesman, said in a statement.\n",
      "1.0000001192092896 “He refused the medal. #### “He refused the medal.\n",
      "1.0000001192092896 “He refused the medal. #### “He refused the medal.\n",
      "1.0000004768371582 I put it on him, he said, ‘Don’t do that to me, sir. #### I put it on him, he said, ‘Don’t do that to me, sir.\n",
      "1.0000004768371582 I put it on him, he said, ‘Don’t do that to me, sir. #### I put it on him, he said, ‘Don’t do that to me, sir.\n",
      "0.9999995231628418 He died. #### He died.\n",
      "0.9999995231628418 He died. #### He died.\n",
      "0.9999995231628418 He died. #### He died.\n",
      "0.9999995231628418 He died. #### He died.\n",
      "0.9999995231628418 He died. #### He died.\n",
      "0.9999995231628418 He died. #### He died.\n",
      "0.9999995231628418 He died. #### He died.\n",
      "0.9999995231628418 He died. #### He died.\n",
      "0.9999995231628418 He died. #### He died.\n",
      "0.9999998807907104 “We can’t lose many more of these kids. #### “We can’t lose many more of these kids.\n",
      "0.9999998807907104 “We can’t lose many more of these kids. #### “We can’t lose many more of these kids.\n",
      "0.9999995231628418 He died. #### He died.\n",
      "0.9999995231628418 He died. #### He died.\n",
      "0.9999995231628418 He died. #### He died.\n",
      "0.9999995231628418 He died. #### He died.\n",
      "0.9999995231628418 He died. #### He died.\n",
      "0.9999995231628418 He died. #### He died.\n",
      "0.9999995231628418 He died. #### He died.\n",
      "0.9999995231628418 He died. #### He died.\n",
      "1.0000001192092896 Biden visited Kunar province in 2008 as a U.S. senator, not as vice president. #### Biden visited Kunar province in 2008 as a U.S. senator, not as vice president.\n",
      "1.0000004768371582 The service member who performed the celebrated rescue that Biden described was a 20-year-old Army specialist, not a much older Navy captain. #### The service member who performed the celebrated rescue that Biden described was a 20-year-old Army specialist, not a much older Navy captain.\n"
     ]
    },
    {
     "name": "stdout",
     "output_type": "stream",
     "text": [
      "0.9999995231628418 And that soldier, Kyle J. #### And that soldier, Kyle J.\n",
      "0.9999999403953552 White, never had a Silver Star, or any other medal, pinned on him by Biden. #### White, never had a Silver Star, or any other medal, pinned on him by Biden.\n",
      "1.0000001192092896 At a White House ceremony six years after Biden’s visit, White stood at attention as President Barack Obama placed a Medal of Honor, the nation’s highest award for valor, around his neck. #### At a White House ceremony six years after Biden’s visit, White stood at attention as President Barack Obama placed a Medal of Honor, the nation’s highest award for valor, around his neck.\n",
      "0.9999997615814209 “He died. #### “He died.\n",
      "0.9999995231628418 He died. #### He died.\n",
      "0.9999995231628418 He died. #### He died.\n",
      "0.9999995231628418 He died. #### He died.\n",
      "0.9999995231628418 He died. #### He died.\n",
      "0.9999995231628418 He died. #### He died.\n",
      "0.9999995231628418 He died. #### He died.\n",
      "0.9999995231628418 He died. #### He died.\n",
      "0.9999995231628418 He died. #### He died.\n",
      "0.9999995231628418 He died. #### He died.\n",
      "0.9999995231628418 He died. #### He died.\n",
      "0.9999995231628418 He died. #### He died.\n",
      "0.9999995231628418 He died. #### He died.\n",
      "0.9999995231628418 He died. #### He died.\n"
     ]
    }
   ],
   "source": [
    "duplicate_sentences = []\n",
    "\n",
    "for i in itertools.combinations(df_sentences[\"sentence\"].to_list(), 2):\n",
    "    sent_one = model.encode(i[0])\n",
    "    sent_two = model.encode(i[1])\n",
    "\n",
    "    # Compute dot score between query and all document embeddings\n",
    "    scores = util.dot_score(sent_one, sent_two)[0].cpu().tolist()\n",
    "\n",
    "    sen_tup1 = (i[0],\"str\")\n",
    "    sen_tup2 = (i[1], \"str\")\n",
    "\n",
    "    # Combine docs & scores\n",
    "    doc_score_pairs = list(zip(sen_tup1, sen_tup2, scores))\n",
    "    \n",
    "    # Sort by decreasing score\n",
    "    doc_score_pairs = sorted(doc_score_pairs, key=lambda x: x[1], reverse=True)\n",
    "\n",
    "    # Output passages & scores\n",
    "    for doc, doc2, score in doc_score_pairs:\n",
    "        if score > .98:\n",
    "            print(score, doc, \"####\", doc2)\n",
    "            duplicate_sentences.append(doc)"
   ]
  },
  {
   "cell_type": "code",
   "execution_count": null,
   "id": "d886fc2b",
   "metadata": {},
   "outputs": [],
   "source": [
    "df_sentences = df_sentences.loc[~df_sentences[\"sentence\"].isin(duplicate_sentences)]"
   ]
  },
  {
   "cell_type": "code",
   "execution_count": null,
   "id": "e484728b",
   "metadata": {},
   "outputs": [],
   "source": [
    "sentences_all_embed = df_sentences[\"sentence\"].to_list()\n",
    "sentences_all_embed"
   ]
  },
  {
   "cell_type": "markdown",
   "id": "181f4dd6",
   "metadata": {},
   "source": [
    "## Convert to sentence embeddings"
   ]
  },
  {
   "cell_type": "code",
   "execution_count": null,
   "id": "da621641",
   "metadata": {},
   "outputs": [],
   "source": [
    "from sklearn.cluster import AgglomerativeClustering\n",
    "from sentence_transformers import SentenceTransformer"
   ]
  },
  {
   "cell_type": "markdown",
   "id": "3ab340fc",
   "metadata": {},
   "source": [
    "Some code sourced from: https://huggingface.co/sentence-transformers/all-MiniLM-L6-v2"
   ]
  },
  {
   "cell_type": "code",
   "execution_count": null,
   "id": "53fff928",
   "metadata": {},
   "outputs": [],
   "source": [
    "embedder = SentenceTransformer('all-MiniLM-L6-v2')\n",
    "corpus_embeddings = embedder.encode(sentences_all_embed, show_progress_bar=True)\n",
    "corpus_embeddings = corpus_embeddings /  np.linalg.norm(corpus_embeddings, axis=1, keepdims=True)"
   ]
  },
  {
   "cell_type": "code",
   "execution_count": null,
   "id": "e41e64bb",
   "metadata": {},
   "outputs": [],
   "source": [
    "len(corpus_embeddings)"
   ]
  },
  {
   "cell_type": "markdown",
   "id": "f864dc48",
   "metadata": {},
   "source": [
    "## Perform clustering"
   ]
  },
  {
   "cell_type": "markdown",
   "id": "9d69ee3e",
   "metadata": {},
   "source": [
    "Some code sourced from: https://scikit-learn.org/stable/modules/generated/sklearn.cluster.AgglomerativeClustering.html"
   ]
  },
  {
   "cell_type": "code",
   "execution_count": null,
   "id": "b2a2cd6c",
   "metadata": {},
   "outputs": [],
   "source": [
    "clustering_model = AgglomerativeClustering(n_clusters=None, distance_threshold=1.05, compute_distances=True) \n",
    "clustering_model.fit(corpus_embeddings)\n",
    "cluster_assignment = clustering_model.labels_\n",
    "\n",
    "clustered_sentences = {}\n",
    "for sentence_id, cluster_id in enumerate(cluster_assignment):\n",
    "    if cluster_id not in clustered_sentences:\n",
    "        clustered_sentences[cluster_id] = []\n",
    "\n",
    "    clustered_sentences[cluster_id].append(sentences_all_embed[sentence_id] + \"777777\")"
   ]
  },
  {
   "cell_type": "code",
   "execution_count": null,
   "id": "755d0d02",
   "metadata": {},
   "outputs": [],
   "source": [
    "for i, cluster in clustered_sentences.items():\n",
    "    print(\"Cluster \", i)\n",
    "    for article in cluster:\n",
    "        print(article.split(\"###\")[0])\n",
    "    print(\"\")"
   ]
  },
  {
   "cell_type": "code",
   "execution_count": null,
   "id": "e601e232",
   "metadata": {},
   "outputs": [],
   "source": [
    "df_sentences[\"cluster\"] = clustering_model.labels_"
   ]
  },
  {
   "cell_type": "code",
   "execution_count": null,
   "id": "346afe00",
   "metadata": {},
   "outputs": [],
   "source": [
    "df_sentences.head()"
   ]
  },
  {
   "cell_type": "markdown",
   "id": "655365cd",
   "metadata": {},
   "source": [
    "## Remove clusters with only one outlet"
   ]
  },
  {
   "cell_type": "code",
   "execution_count": null,
   "id": "cbbf481f",
   "metadata": {},
   "outputs": [],
   "source": [
    "one_outlet_clusters = []\n",
    "for clust in df_sentences[\"cluster\"].to_list():\n",
    "    df_temp = df_sentences.loc[df_sentences[\"cluster\"]==clust]\n",
    "    if len(set(df_temp[\"outlet\"])) < 2:\n",
    "        one_outlet_clusters.append(clust)\n",
    "        print(str(clust), set(df_temp[\"outlet\"]))"
   ]
  },
  {
   "cell_type": "code",
   "execution_count": null,
   "id": "7cbb7ebd",
   "metadata": {},
   "outputs": [],
   "source": [
    "one_outlet_clusters = list(set(one_outlet_clusters))"
   ]
  },
  {
   "cell_type": "code",
   "execution_count": null,
   "id": "95f5deb0",
   "metadata": {},
   "outputs": [],
   "source": [
    "df_sentences_filter = df_sentences.loc[~df_sentences[\"cluster\"].isin(one_outlet_clusters)]"
   ]
  },
  {
   "cell_type": "code",
   "execution_count": null,
   "id": "1e7b0f8a",
   "metadata": {},
   "outputs": [],
   "source": [
    "df_sentences.shape"
   ]
  },
  {
   "cell_type": "code",
   "execution_count": null,
   "id": "53acd9c0",
   "metadata": {},
   "outputs": [],
   "source": [
    "df_sentences_filter.shape"
   ]
  },
  {
   "cell_type": "code",
   "execution_count": null,
   "id": "1d35ea93",
   "metadata": {},
   "outputs": [],
   "source": [
    "df_sentences_filter[df_sentences_filter[\"cluster\"]==0][\"sentence\"].values"
   ]
  },
  {
   "cell_type": "markdown",
   "id": "b36dd858",
   "metadata": {},
   "source": [
    "## Remove low similarity sentences from clusters"
   ]
  },
  {
   "cell_type": "code",
   "execution_count": 370,
   "id": "d0b757dd",
   "metadata": {},
   "outputs": [
    {
     "data": {
      "text/plain": [
       "[1, 2, 3, 4, 133, 6, 7, 8, 5, 11, 12, 14, 15, 16, 19, 20, 21, 22, 23, 24]"
      ]
     },
     "execution_count": 370,
     "metadata": {},
     "output_type": "execute_result"
    }
   ],
   "source": [
    "list(set(df_sentences_filter[\"cluster\"]))[:20]"
   ]
  },
  {
   "cell_type": "code",
   "execution_count": 371,
   "id": "fd6c1a94",
   "metadata": {},
   "outputs": [
    {
     "name": "stdout",
     "output_type": "stream",
     "text": [
      "133 0.8987131118774414 [0.8987131118774414]\n",
      "32 0.7733260989189148 [0.723791778087616, 0.7031174302101135, 0.8930690884590149]\n",
      "54 0.7699702978134155 [0.7699702978134155]\n",
      "84 0.9046187996864319 [0.9046187996864319]\n",
      "88 0.8552548289299011 [0.8160620927810669, 0.8929188847541809, 0.8567835092544556]\n",
      "91 0.8186214566230774 [0.8186214566230774]\n",
      "93 0.9231092154979705 [0.9420449733734131, 0.9573326706886292, 0.9721425771713257, 0.8341306447982788, 0.9673680067062378, 0.956412672996521, 0.9004188179969788, 0.9609381556510925, 0.8598504662513733, 0.8804531693458557]\n",
      "99 0.9687110185623169 [0.9687110185623169]\n",
      "108 0.8379121025403341 [0.8017549514770508, 0.7747612595558167, 0.9372200965881348]\n",
      "115 0.93657386302948 [0.93657386302948]\n",
      "117 0.9340170621871948 [0.9340170621871948]\n",
      "119 0.7574264407157898 [0.7574264407157898]\n",
      "123 0.9175558090209961 [0.9175558090209961]\n"
     ]
    }
   ],
   "source": [
    "for clust_num in list(set(df_sentences_filter[\"cluster\"])):\n",
    "    scores_all = []\n",
    "    df_sent_clust = df_sentences_filter[df_sentences_filter[\"cluster\"]==clust_num]\n",
    "    for i in itertools.combinations(df_sent_clust[\"sentence\"].to_list(), 2):\n",
    "        sent_one = model.encode(i[0])\n",
    "        sent_two = model.encode(i[1])\n",
    "\n",
    "        # Compute dot score between query and all document embeddings\n",
    "        scores = util.dot_score(sent_one, sent_two)[0].cpu().tolist()\n",
    "\n",
    "        sen_tup1 = (i[0],\"str\")\n",
    "        sen_tup2 = (i[1], \"str\")\n",
    "\n",
    "        # Combine docs & scores\n",
    "        doc_score_pairs = list(zip(sen_tup1, sen_tup2, scores))\n",
    "\n",
    "        # Sort by decreasing score\n",
    "        doc_score_pairs = sorted(doc_score_pairs, key=lambda x: x[1], reverse=True)\n",
    "\n",
    "        # Output passages & scores\n",
    "        for doc, doc2, score in doc_score_pairs:\n",
    "            scores_all.append(score)\n",
    "    if np.mean(scores_all) > .75:\n",
    "        print(clust_num, np.mean(scores_all), scores_all)"
   ]
  },
  {
   "cell_type": "code",
   "execution_count": 374,
   "id": "131d2f63",
   "metadata": {},
   "outputs": [
    {
     "data": {
      "text/plain": [
       "array(['In an interview Thursday with The Post and Courier, a South Carolina newspaper, Biden pushed back on the report, saying that the \"central point\" of the story he told is accurate.',\n",
       "       '\"I don’t understand what they’re talking about, but the central point is it was absolutely accurate what I said,” Biden told the paper.',\n",
       "       '“I don’t understand what they’re talking about, but the central point is it was absolutely accurate what I said,” Biden told The Post and Courier when asked about the controversy.'],\n",
       "      dtype=object)"
      ]
     },
     "execution_count": 374,
     "metadata": {},
     "output_type": "execute_result"
    }
   ],
   "source": [
    "sent_clust_num = 32\n",
    "df_sent_clust = df_sentences_filter[df_sentences_filter[\"cluster\"]==sent_clust_num]\n",
    "df_sent_clust[\"sentence\"].values"
   ]
  }
 ],
 "metadata": {
  "kernelspec": {
   "display_name": "Python 3 (ipykernel)",
   "language": "python",
   "name": "python3"
  },
  "language_info": {
   "codemirror_mode": {
    "name": "ipython",
    "version": 3
   },
   "file_extension": ".py",
   "mimetype": "text/x-python",
   "name": "python",
   "nbconvert_exporter": "python",
   "pygments_lexer": "ipython3",
   "version": "3.9.6"
  }
 },
 "nbformat": 4,
 "nbformat_minor": 5
}
